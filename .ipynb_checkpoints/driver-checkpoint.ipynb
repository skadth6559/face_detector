{
 "cells": [
  {
   "cell_type": "code",
   "execution_count": 1,
   "id": "7673a68e-10b0-4cbc-bca7-ebae531f8341",
   "metadata": {},
   "outputs": [
    {
     "name": "stdout",
     "output_type": "stream",
     "text": [
      "Requirement already satisfied: anvil-uplink in ./venv/lib/python3.9/site-packages (0.4.2)\n",
      "Collecting argparse (from anvil-uplink)\n",
      "  Using cached argparse-1.4.0-py2.py3-none-any.whl.metadata (2.8 kB)\n",
      "Requirement already satisfied: future in ./venv/lib/python3.9/site-packages (from anvil-uplink) (1.0.0)\n",
      "Requirement already satisfied: six in ./venv/lib/python3.9/site-packages (from anvil-uplink) (1.16.0)\n",
      "Requirement already satisfied: ws4py in ./venv/lib/python3.9/site-packages (from anvil-uplink) (0.5.1)\n",
      "Using cached argparse-1.4.0-py2.py3-none-any.whl (23 kB)\n",
      "Installing collected packages: argparse\n",
      "Successfully installed argparse-1.4.0\n",
      "Connecting to wss://anvil.works/uplink\n",
      "Anvil websocket open\n",
      "Connected to \"Default Environment\" as SERVER\n"
     ]
    }
   ],
   "source": [
    "!pip install anvil-uplink\n",
    "import anvil.server\n",
    "import anvil.media\n",
    "from PIL import Image\n",
    "import skimage\n",
    "from skimage import io\n",
    "import numpy as np\n",
    "anvil.server.connect(\"server_A6ZMN4V6KILGUCEXUELOU2YQ-2EF5ZHV7LPO5HK6X\")"
   ]
  },
  {
   "cell_type": "code",
   "execution_count": 2,
   "id": "e9e74aac-3bdb-45b0-be4f-a43eabc809ce",
   "metadata": {},
   "outputs": [],
   "source": [
    "import argparse\n",
    "import pickle\n",
    "from collections import Counter\n",
    "from pathlib import Path\n",
    "\n",
    "import face_recognition\n",
    "from PIL import Image, ImageDraw\n",
    "\n",
    "DEFAULT_ENCODINGS_PATH = Path(\"output/encodings.pkl\")\n",
    "BOUNDING_BOX_COLOR = \"green\"\n",
    "DANGER_BOUNDING_BOX_COLOR = \"red\"\n",
    "TEXT_COLOR = \"white\"\n",
    "\n",
    "# Create directories if they don't already exist\n",
    "Path(\"training\").mkdir(exist_ok=True)\n",
    "Path(\"output\").mkdir(exist_ok=True)\n",
    "Path(\"validation\").mkdir(exist_ok=True)"
   ]
  },
  {
   "cell_type": "code",
   "execution_count": 3,
   "id": "9ab86774-2b17-4f1f-8e9c-192bd602b81c",
   "metadata": {},
   "outputs": [],
   "source": [
    "def array_from_media(media_object):\n",
    "  with anvil.media.TempFile(media_object) as face:\n",
    "    face_image = Image.open(face)\n",
    "    face_image.save('face_image.jpg')\n",
    "  return io.imread('face_image.jpg')"
   ]
  },
  {
   "cell_type": "code",
   "execution_count": 4,
   "id": "988c935c-04bb-44e4-a84d-662d58c99ec7",
   "metadata": {},
   "outputs": [],
   "source": [
    "def media_from_array(array):\n",
    "  image = Image.fromarray(array,'RGB')\n",
    "  image.save('face_box_image.jpg')\n",
    "  return anvil.media.from_file('face_box_image.jpg')"
   ]
  },
  {
   "cell_type": "code",
   "execution_count": 5,
   "id": "a2e1bd97-2704-4987-91f4-efb85f7c2378",
   "metadata": {},
   "outputs": [],
   "source": [
    "\n",
    "def display_face(draw, bounding_box, name):\n",
    "    \"\"\"\n",
    "    Draws bounding boxes around faces, a caption area, and text captions.\n",
    "    \"\"\"\n",
    "\n",
    "    if name == \"Unknown\":\n",
    "        color = DANGER_BOUNDING_BOX_COLOR\n",
    "    else:\n",
    "        color = BOUNDING_BOX_COLOR\n",
    "        \n",
    "    top, right, bottom, left = bounding_box\n",
    "    draw.rectangle(((left, top), (right, bottom)), outline=color)\n",
    "\n",
    "    text_left, text_top, text_right, text_bottom = draw.textbbox(\n",
    "        (left, bottom), name\n",
    "    )\n",
    "\n",
    "    draw.rectangle(\n",
    "        ((text_left, text_top), (text_right, text_bottom)),\n",
    "        fill=color,\n",
    "        outline=color,\n",
    "    )\n",
    "    \n",
    "   \n",
    "def recognize_face(unknown_encoding, loaded_encodings):\n",
    "    \"\"\"\n",
    "    Given an unknown encoding and all known encodings, find the known\n",
    "    encoding with the most matches.\n",
    "    \"\"\"\n",
    "    boolean_matches = face_recognition.compare_faces(\n",
    "        loaded_encodings[\"encodings\"], unknown_encoding\n",
    "    )\n",
    "    votes = Counter(\n",
    "        name\n",
    "        for match, name in zip(boolean_matches, loaded_encodings[\"names\"])\n",
    "        if match\n",
    "    )\n",
    "    if votes:\n",
    "        return votes.most_common(1)[0][0]\n",
    "\n",
    "\n",
    "@anvil.server.callable\n",
    "def recognize_faces(media_object, model: str = \"hog\", encodings_location: Path = DEFAULT_ENCODINGS_PATH):\n",
    "    \"\"\"\n",
    "    Given an unknown image, get the locations and encodings of any faces and\n",
    "    compares them against the known encodings to find potential matches.\n",
    "    \"\"\"\n",
    "    with encodings_location.open(mode=\"rb\") as f:\n",
    "        loaded_encodings = pickle.load(f)\n",
    "\n",
    "    input_image = array_from_media(media_object)\n",
    "\n",
    "    input_face_locations = face_recognition.face_locations(\n",
    "        input_image, model=model\n",
    "    )\n",
    "    input_face_encodings = face_recognition.face_encodings(\n",
    "        input_image, input_face_locations\n",
    "    )\n",
    "    \n",
    "    pillow_image = Image.fromarray(input_image)\n",
    "    draw = ImageDraw.Draw(pillow_image)\n",
    "\n",
    "    for bounding_box, unknown_encoding in zip(\n",
    "        input_face_locations, input_face_encodings\n",
    "    ):\n",
    "        name = recognize_face(unknown_encoding, loaded_encodings)\n",
    "        \n",
    "        danger = False\n",
    "        if not name:\n",
    "            name = \"Unknown\"\n",
    "            danger = True\n",
    "        else:\n",
    "            name = name.split('_')\n",
    "            name = ' '.join(part.capitalize() for part in name)\n",
    "        display_face(draw, bounding_box, name)\n",
    "\n",
    "    del draw\n",
    "    input_array = np.array(pillow_image)\n",
    "    media_box = media_from_array(input_array)\n",
    "    return danger, media_box, name"
   ]
  },
  {
   "cell_type": "code",
   "execution_count": null,
   "id": "f684b579-491e-4e81-b4a0-dbd32b8394eb",
   "metadata": {},
   "outputs": [],
   "source": [
    "anvil.server.wait_forever()"
   ]
  },
  {
   "cell_type": "code",
   "execution_count": null,
   "id": "c7b8ef18-2aad-4062-b693-d3272e5b7238",
   "metadata": {},
   "outputs": [],
   "source": []
  }
 ],
 "metadata": {
  "kernelspec": {
   "display_name": "Python 3 (ipykernel)",
   "language": "python",
   "name": "python3"
  },
  "language_info": {
   "codemirror_mode": {
    "name": "ipython",
    "version": 3
   },
   "file_extension": ".py",
   "mimetype": "text/x-python",
   "name": "python",
   "nbconvert_exporter": "python",
   "pygments_lexer": "ipython3",
   "version": "3.9.6"
  }
 },
 "nbformat": 4,
 "nbformat_minor": 5
}
